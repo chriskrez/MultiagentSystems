{
 "cells": [
  {
   "cell_type": "markdown",
   "metadata": {},
   "source": [
    "# Multi Agent Systems"
   ]
  },
  {
   "cell_type": "markdown",
   "metadata": {
    "pycharm": {
     "name": "#%% md\n"
    }
   },
   "source": [
    "## General Imports"
   ]
  },
  {
   "cell_type": "code",
   "execution_count": 1,
   "metadata": {
    "pycharm": {
     "name": "#%%\n"
    }
   },
   "outputs": [],
   "source": [
    "import numpy as np"
   ]
  },
  {
   "cell_type": "markdown",
   "metadata": {},
   "source": [
    "## Agents"
   ]
  },
  {
   "cell_type": "code",
   "execution_count": 2,
   "metadata": {},
   "outputs": [],
   "source": [
    "class Bot:\n",
    "    def __init__(self, bal_per_round, init_balance=0):\n",
    "        self.balance = init_balance\n",
    "        self.bal_per_round = bal_per_round\n",
    "\n",
    "    def pre_round(self, winner, win_amount):\n",
    "        self.balance += self.bal_per_round\n",
    "        if winner == 0:\n",
    "            self.balance -= win_amount\n",
    "\n",
    "    def play_round(self, winner, win_amount):\n",
    "        pass"
   ]
  },
  {
   "cell_type": "code",
   "execution_count": 3,
   "metadata": {},
   "outputs": [],
   "source": [
    "class AllInBot(Bot):\n",
    "    def play_round(self, winner, win_amount):\n",
    "        super().pre_round(winner, win_amount)\n",
    "        return self.balance"
   ]
  },
  {
   "cell_type": "code",
   "execution_count": 4,
   "metadata": {},
   "outputs": [],
   "source": [
    "class RandomBot(Bot):\n",
    "    def play_round(self, winner, win_amount):\n",
    "        super().pre_round(winner, win_amount)\n",
    "        return np.random.randint(0, self.balance)"
   ]
  },
  {
   "cell_type": "code",
   "execution_count": 5,
   "metadata": {},
   "outputs": [],
   "source": [
    "# todo agent 1"
   ]
  },
  {
   "cell_type": "code",
   "execution_count": 6,
   "metadata": {},
   "outputs": [],
   "source": [
    "# todo agent 2"
   ]
  },
  {
   "cell_type": "code",
   "execution_count": 7,
   "metadata": {},
   "outputs": [],
   "source": [
    "# ..."
   ]
  },
  {
   "cell_type": "markdown",
   "metadata": {},
   "source": [
    "## Variables"
   ]
  },
  {
   "cell_type": "code",
   "execution_count": 8,
   "metadata": {
    "pycharm": {
     "name": "#%%\n"
    }
   },
   "outputs": [],
   "source": [
    "bot_list = [\n",
    "    # add bots from previous blocks\n",
    "    AllInBot,\n",
    "    RandomBot\n",
    "]\n",
    "\n",
    "N = len(bot_list)"
   ]
  },
  {
   "cell_type": "markdown",
   "metadata": {
    "pycharm": {
     "name": "#%% md\n"
    }
   },
   "source": [
    "## Util Classes"
   ]
  },
  {
   "cell_type": "code",
   "execution_count": 9,
   "metadata": {
    "pycharm": {
     "name": "#%%\n"
    }
   },
   "outputs": [],
   "source": [
    "class Bid:\n",
    "    def __init__(self, index, amount):\n",
    "        self.index = index\n",
    "        self.amount = amount"
   ]
  },
  {
   "cell_type": "markdown",
   "metadata": {},
   "source": [
    "## Auction"
   ]
  },
  {
   "cell_type": "code",
   "execution_count": 10,
   "metadata": {},
   "outputs": [],
   "source": [
    "import hashlib\n",
    "\n",
    "def shuffle_order(num_list):\n",
    "    n = len(num_list)\n",
    "    hash_index = int(hashlib.sha1(str(num_list).encode()).hexdigest(), 16) % 24\n",
    "    result = []\n",
    "    for i in range(n, 0, -1):\n",
    "        result.append(num_list[hash_index % i])\n",
    "        del num_list[hash_index % i]\n",
    "        hash_index //= i\n",
    "    return result"
   ]
  },
  {
   "cell_type": "code",
   "execution_count": 11,
   "metadata": {
    "pycharm": {
     "name": "#%%\n"
    }
   },
   "outputs": [],
   "source": [
    "def auction(agent_indexes, rounds, bal_per_round):\n",
    "    agent_indexes = shuffle_order(agent_indexes)\n",
    "    agents = [bot_list[i](bal_per_round) for i in agent_indexes]\n",
    "\n",
    "    score = [0] * N\n",
    "    total = [0] * N\n",
    "    balance = [0] * N\n",
    "\n",
    "    (prev_winner, prev_bid) = (-1, -1)\n",
    "    for _round in range(rounds):\n",
    "        bids = []\n",
    "        for i in range(N):\n",
    "            balance[i] += bal_per_round\n",
    "\n",
    "            if prev_winner == i:\n",
    "                prev_winner = 0\n",
    "            elif prev_winner != -1 and prev_winner < i:\n",
    "                prev_winner += 1\n",
    "\n",
    "            bid = int(agents[i].play_round(prev_winner, prev_bid))\n",
    "            if bid < 0 or bid > balance[i]:\n",
    "                name = bot_list[agent_indexes[i]].__name__\n",
    "                raise ValueError(\"Agent #%s tried to bid with an invalid amount (%d)\" % (name, bid))\n",
    "            bids.append(Bid(i, bid))\n",
    "\n",
    "        bids.sort(reverse=True, key= lambda b: b.amount)\n",
    "\n",
    "        winner = -1\n",
    "        top_bid = bids[0].amount\n",
    "        for i in range(1, N):\n",
    "            if bids[i].amount == top_bid:\n",
    "                winner = -1\n",
    "                bids[i].amount = -1\n",
    "                bids[i - 1].amount = -1\n",
    "            else:\n",
    "                if bids[i - 1].amount == -1:\n",
    "                    winner = i\n",
    "                    top_bid = bids[i].amount\n",
    "                else:\n",
    "                    winner = i - 1\n",
    "                    break\n",
    "\n",
    "        if winner == -1:\n",
    "            (prev_winner, prev_bid) = (-1, -1)\n",
    "        else:\n",
    "            w_bid = bids[winner]\n",
    "            (prev_bid, prev_winner) = (w_bid.amount, w_bid.index)\n",
    "            score[agent_indexes[prev_winner]] += 1\n",
    "            total[agent_indexes[prev_winner]] += prev_bid\n",
    "            balance[prev_winner] -= prev_bid\n",
    "\n",
    "    return score, total"
   ]
  },
  {
   "cell_type": "code",
   "execution_count": 12,
   "metadata": {
    "pycharm": {
     "name": "#%%\n"
    }
   },
   "outputs": [],
   "source": [
    "def show_results(score, total):\n",
    "    results = sorted(map(list, zip(score, total, bot_list)), key= lambda k: (-k[0], k[1]))\n",
    "\n",
    "    for score, total, agent in results:\n",
    "        print(\"%-20s Score: %-6d Total: %d\" % (agent.__name__, score, total))"
   ]
  },
  {
   "cell_type": "code",
   "execution_count": 13,
   "metadata": {
    "pycharm": {
     "name": "#%%\n"
    }
   },
   "outputs": [],
   "source": [
    "def simulate(experiments=10, rounds=10, bal_per_round=500, print_experiments=True):\n",
    "    scores = []\n",
    "    totals = []\n",
    "    \n",
    "    for _ in range(experiments):\n",
    "        agent_indexes = list(range(N))\n",
    "        (score, total) = auction(agent_indexes, rounds, bal_per_round)\n",
    "        scores.append(np.array(score))\n",
    "        totals.append(np.array(total))\n",
    "        \n",
    "        if print_experiments:\n",
    "            print(\"End of experiment\")\n",
    "            show_results(score, total)\n",
    "            print()\n",
    "    \n",
    "    print(\"End of simulation\")\n",
    "    score = sum(scores)\n",
    "    total = sum(totals)\n",
    "    show_results(score, total)"
   ]
  },
  {
   "cell_type": "code",
   "execution_count": 14,
   "metadata": {
    "scrolled": false
   },
   "outputs": [
    {
     "name": "stdout",
     "output_type": "stream",
     "text": [
      "End of simulation\n",
      "AllInBot             Score: 56778  Total: 49755500\n",
      "RandomBot            Score: 43173  Total: 49070723\n"
     ]
    }
   ],
   "source": [
    "simulate(1000, 100, print_experiments=False)"
   ]
  }
 ],
 "metadata": {
  "kernelspec": {
   "display_name": "Python 3",
   "language": "python",
   "name": "python3"
  },
  "language_info": {
   "codemirror_mode": {
    "name": "ipython",
    "version": 3
   },
   "file_extension": ".py",
   "mimetype": "text/x-python",
   "name": "python",
   "nbconvert_exporter": "python",
   "pygments_lexer": "ipython3",
   "version": "3.6.2"
  }
 },
 "nbformat": 4,
 "nbformat_minor": 2
}